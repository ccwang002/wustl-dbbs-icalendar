{
 "cells": [
  {
   "cell_type": "code",
   "execution_count": 1,
   "metadata": {
    "collapsed": true
   },
   "outputs": [],
   "source": [
    "import asyncio\n",
    "import aiohttp\n",
    "from aiohttp.resolver import AsyncResolver\n",
    "from collections import namedtuple, OrderedDict\n",
    "from datetime import datetime\n",
    "from dateutil.parser import parse\n",
    "\n",
    "import re\n",
    "import pyquery\n",
    "import pendulum\n",
    "import pytz\n",
    "import vobject\n",
    "\n",
    "from html2text import html2text\n",
    "from recurrent import RecurringEvent\n",
    "from pyquery import PyQuery as pq\n",
    "from tqdm import tqdm_notebook"
   ]
  },
  {
   "cell_type": "code",
   "execution_count": 2,
   "metadata": {
    "collapsed": false
   },
   "outputs": [
    {
     "data": {
      "text/plain": [
       "['January%2C%202017', 'February%2C%202017']"
      ]
     },
     "execution_count": 2,
     "metadata": {},
     "output_type": "execute_result"
    }
   ],
   "source": [
    "now = pendulum.now('America/Chicago')\n",
    "next_month = now.add(months=1)\n",
    "month_reprs = [\n",
    "    dt.format('%B%%2C%%20%Y', locale='en')\n",
    "    for dt in [now, next_month]\n",
    "]\n",
    "month_reprs"
   ]
  },
  {
   "cell_type": "code",
   "execution_count": 3,
   "metadata": {
    "collapsed": false
   },
   "outputs": [
    {
     "data": {
      "text/plain": [
       "['http://dbbs.wustl.edu/Pages/Print-Events.aspx?dt=January%2C%202017',\n",
       " 'http://dbbs.wustl.edu/Pages/Print-Events.aspx?dt=February%2C%202017']"
      ]
     },
     "execution_count": 3,
     "metadata": {},
     "output_type": "execute_result"
    }
   ],
   "source": [
    "event_list_urls = [\n",
    "    f'http://dbbs.wustl.edu/Pages/Print-Events.aspx?dt={month_repr}'\n",
    "    for month_repr in month_reprs\n",
    "]\n",
    "event_list_urls"
   ]
  },
  {
   "cell_type": "code",
   "execution_count": 4,
   "metadata": {
    "collapsed": true
   },
   "outputs": [],
   "source": [
    "async def parse_event_id(session, url):\n",
    "    r = await session.get(url)\n",
    "    d = pq(await r.text())\n",
    "    a_doms = d('#calendar_list li > h1 a')\n",
    "    # print(dir(a_doms[0]))\n",
    "    return [\n",
    "        re.search(r'\\?EvID=(\\d+)', a.attrib['href']).group(1)\n",
    "        for a in a_doms\n",
    "    ]\n",
    "        \n",
    "async def retrieve_all_event_ids(event_list_urls, conn):\n",
    "    loop = asyncio.get_event_loop()\n",
    "    event_ids = []\n",
    "    async with aiohttp.ClientSession(connector=conn) as session:\n",
    "        tasks = [loop.create_task(parse_event_id(session, url)) for url in event_list_urls]\n",
    "        for f in tqdm_notebook(asyncio.as_completed(tasks), total=len(tasks)):\n",
    "            await f\n",
    "        for t in tasks:\n",
    "            event_ids.extend(t.result())\n",
    "    return event_ids"
   ]
  },
  {
   "cell_type": "code",
   "execution_count": 5,
   "metadata": {
    "collapsed": false
   },
   "outputs": [
    {
     "name": "stdout",
     "output_type": "stream",
     "text": [
      "\n",
      "CPU times: user 97 ms, sys: 19 ms, total: 116 ms\n",
      "Wall time: 1.25 s\n"
     ]
    }
   ],
   "source": [
    "%%time\n",
    "resolver = AsyncResolver(nameservers=[\"8.8.8.8\", \"8.8.4.4\"])\n",
    "conn = aiohttp.TCPConnector(limit=5, resolver=resolver)\n",
    "\n",
    "loop = asyncio.get_event_loop()\n",
    "event_ids = loop.run_until_complete(retrieve_all_event_ids(event_list_urls, conn))"
   ]
  },
  {
   "cell_type": "code",
   "execution_count": 6,
   "metadata": {
    "collapsed": true
   },
   "outputs": [],
   "source": [
    "cst = pytz.timezone('America/Chicago')"
   ]
  },
  {
   "cell_type": "code",
   "execution_count": 7,
   "metadata": {
    "collapsed": false
   },
   "outputs": [],
   "source": [
    "Event = namedtuple(\n",
    "    'Event', \n",
    "    'title location start end '\n",
    "    'speaker description last_modified recurrence '\n",
    "    'event_id link'\n",
    ")\n",
    "\n",
    "async def fetch_event(session, event_id):\n",
    "    r = await session.get(f'http://dbbs.wustl.edu/Lists/Events/DispForm.aspx?ID={event_id}')\n",
    "    d = pq(await r.text())\n",
    "    table_rows = OrderedDict()\n",
    "    for tr in d('.ms-formtable tr'):\n",
    "        k, v, *_ = [pq(elem).text() for elem in pq(tr)('td')]\n",
    "        table_rows[k] = v\n",
    "    title = table_rows['Title']\n",
    "    desc = table_rows['Comments']\n",
    "    if desc:\n",
    "        desc = html2text(desc)\n",
    "    recurrence = table_rows['Recurrence']\n",
    "    start, end = [\n",
    "        cst.localize(parse(time_str, dayfirst=False, ignoretz=True))\n",
    "        for time_str in (table_rows['Start Time'], table_rows['End Time'])\n",
    "    ]\n",
    "    location = table_rows['Location']\n",
    "    # title = d('a[name=\"SPBookmark_Title\"]').closest('td').nextAll('td').text()\n",
    "    # desc = d('.ms-rtestate-field > div').html() or ''\n",
    "    # if desc:\n",
    "    #     desc = html2text(desc)\n",
    "    # recurrence = d('#SPFieldRecurrence').text()\n",
    "    # start, end = [\n",
    "    #    cst.localize(parse(elem.text_content().strip(), dayfirst=False, ignoretz=True))\n",
    "    #     for elem in d('#SPFieldDateTime')\n",
    "    # ]\n",
    "    # location = d('a[name=\"SPBookmark_Location0\"]').closest('td').nextAll('td').text()\n",
    "    # Speakers\n",
    "    speaker_info = []\n",
    "    for speaker_order in ['', '2nd ', '3rd ', '4th ']:\n",
    "        speaker_col = f'{speaker_order}Speaker/Honorific'\n",
    "        speaker_aff_col = f'{speaker_order}Speaker Affiliation'\n",
    "        if table_rows[speaker_col]:\n",
    "            if table_rows[speaker_aff_col]:\n",
    "                speaker_entry = f'{table_rows[speaker_col]}, {table_rows[speaker_aff_col]}'\n",
    "            else:\n",
    "                speaker_entry = table_rows[speaker_col]\n",
    "            speaker_info.append(speaker_entry)\n",
    "    speaker = '\\n'.join(speaker_info)\n",
    "    last_modified = parse(re.match(r'^Last modified at (.*) by ', d('#onetidinfoblock2').text()).group(1))\n",
    "    link = f'http://dbbs.wustl.edu/Resources/Pages/calendar_event.aspx?EvID={event_id}'\n",
    "    return Event(title, location, start, end, speaker, desc, last_modified, recurrence, event_id, link)\n",
    "        \n",
    "async def fetch_all_events(event_ids, conn):\n",
    "    loop = asyncio.get_event_loop()\n",
    "    async with aiohttp.ClientSession(connector=conn) as session:\n",
    "        tasks = [loop.create_task(fetch_event(session, event_id)) for event_id in event_ids]\n",
    "        for f in tqdm_notebook(asyncio.as_completed(tasks), total=len(tasks)):\n",
    "            await f\n",
    "        return [t.result() for t in tasks]"
   ]
  },
  {
   "cell_type": "code",
   "execution_count": 8,
   "metadata": {
    "collapsed": false,
    "scrolled": true
   },
   "outputs": [
    {
     "name": "stdout",
     "output_type": "stream",
     "text": [
      "\n",
      "CPU times: user 2.77 s, sys: 71.3 ms, total: 2.85 s\n",
      "Wall time: 7.02 s\n"
     ]
    }
   ],
   "source": [
    "%%time\n",
    "resolver = AsyncResolver(nameservers=[\"8.8.8.8\", \"8.8.4.4\"])\n",
    "conn = aiohttp.TCPConnector(limit=5, resolver=resolver)\n",
    "\n",
    "loop = asyncio.get_event_loop()\n",
    "event_infos = loop.run_until_complete(fetch_all_events(event_ids, conn))"
   ]
  },
  {
   "cell_type": "code",
   "execution_count": 9,
   "metadata": {
    "collapsed": true
   },
   "outputs": [],
   "source": [
    "cal = vobject.iCalendar()\n",
    "\n",
    "cal.add('TZID').value = 'America/Chicago'"
   ]
  },
  {
   "cell_type": "code",
   "execution_count": 10,
   "metadata": {
    "collapsed": false
   },
   "outputs": [],
   "source": [
    "for e in event_infos:\n",
    "    event = cal.add('vevent')\n",
    "    event.add('summary').value = e.title\n",
    "    event.add('description').value = f'''\\\n",
    "Speakers:\n",
    "{e.speaker}\n",
    "\n",
    "Description:\n",
    "{e.description}\n",
    "\n",
    "Link: {e.link}'''\n",
    "    event.add('location').value = e.location\n",
    "    event.add('dtstart').value = e.start\n",
    "    if e.recurrence:\n",
    "        rre = RecurringEvent(now_date=e.start)\n",
    "        rre.parse(e.recurrence)\n",
    "        rre.until = e.end\n",
    "        event.add('rrule').value = rre.get_RFC_rrule()[len('RRULE:'):]\n",
    "        event.add('dtend').value = cst.localize(datetime.combine(e.start.date(), e.end.time()))\n",
    "    else:\n",
    "        event.add('dtend').value = e.end\n",
    "    event.add('dtstamp').value = e.last_modified\n",
    "    event.add('uid').value = f'WUSTL DBBS Event Calendar - Event ID {e.event_id}' "
   ]
  },
  {
   "cell_type": "code",
   "execution_count": 11,
   "metadata": {
    "collapsed": true
   },
   "outputs": [],
   "source": [
    "with open('out.ics', 'w') as f:\n",
    "    f.write(cal.serialize())"
   ]
  },
  {
   "cell_type": "code",
   "execution_count": null,
   "metadata": {
    "collapsed": true
   },
   "outputs": [],
   "source": []
  }
 ],
 "metadata": {
  "kernelspec": {
   "display_name": "Python 3",
   "language": "python",
   "name": "python3"
  },
  "language_info": {
   "codemirror_mode": {
    "name": "ipython",
    "version": 3
   },
   "file_extension": ".py",
   "mimetype": "text/x-python",
   "name": "python",
   "nbconvert_exporter": "python",
   "pygments_lexer": "ipython3",
   "version": "3.6.0"
  },
  "widgets": {
   "state": {
    "c02e6918dd894ca9a288da34191ea5be": {
     "views": [
      {
       "cell_index": 7
      }
     ]
    },
    "c549dea6d16a4cbdb553d8ce55ae3f7e": {
     "views": [
      {
       "cell_index": 4
      }
     ]
    }
   },
   "version": "1.2.0"
  }
 },
 "nbformat": 4,
 "nbformat_minor": 2
}
