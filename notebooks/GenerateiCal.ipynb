{
 "cells": [
  {
   "cell_type": "code",
   "execution_count": 12,
   "metadata": {},
   "outputs": [],
   "source": [
    "import asyncio\n",
    "import aiohttp\n",
    "from aiohttp.resolver import AsyncResolver\n",
    "from collections import namedtuple, OrderedDict\n",
    "from datetime import datetime\n",
    "from dateutil.parser import parse\n",
    "\n",
    "import re\n",
    "import pyquery\n",
    "import pendulum\n",
    "import pytz\n",
    "import vobject\n",
    "\n",
    "from html2text import html2text\n",
    "from recurrent import RecurringEvent\n",
    "from pyquery import PyQuery as pq\n",
    "from tqdm import tqdm_notebook"
   ]
  },
  {
   "cell_type": "code",
   "execution_count": null,
   "metadata": {},
   "outputs": [],
   "source": [
    "# http://dbbs.wustl.edu/Lists/Events/MyItems.aspx?Paged=Next&p_StartTimeUTC=20191101T000000Z&View={860A9BEF-2D95-4524-8732-DB3328186BCB}"
   ]
  },
  {
   "cell_type": "code",
   "execution_count": 22,
   "metadata": {},
   "outputs": [
    {
     "data": {
      "text/plain": [
       "['20191001T000000Z', '20191101T000000Z']"
      ]
     },
     "execution_count": 22,
     "metadata": {},
     "output_type": "execute_result"
    }
   ],
   "source": [
    "now = pendulum.now('America/Chicago')\n",
    "month_shifts = [0, 1]\n",
    "timestamps = [\n",
    "    now.add(months=mo_shift).format('YYYYMM01T000000\\Z')\n",
    "    for mo_shift in month_shifts\n",
    "]\n",
    "timestamps"
   ]
  },
  {
   "cell_type": "code",
   "execution_count": 23,
   "metadata": {},
   "outputs": [
    {
     "data": {
      "text/plain": [
       "['http://dbbs.wustl.edu/Lists/Events/MyItems.aspx?Paged=Next&p_StartTimeUTC=20191001T000000Z&View={860A9BEF-2D95-4524-8732-DB3328186BCB}',\n",
       " 'http://dbbs.wustl.edu/Lists/Events/MyItems.aspx?Paged=Next&p_StartTimeUTC=20191101T000000Z&View={860A9BEF-2D95-4524-8732-DB3328186BCB}']"
      ]
     },
     "execution_count": 23,
     "metadata": {},
     "output_type": "execute_result"
    }
   ],
   "source": [
    "event_list_urls = [\n",
    "    'http://dbbs.wustl.edu/Lists/Events/MyItems.aspx?Paged=Next'\n",
    "    f'&p_StartTimeUTC={timestamp}'\n",
    "    '&View={860A9BEF-2D95-4524-8732-DB3328186BCB}'\n",
    "    for timestamp in timestamps\n",
    "]\n",
    "event_list_urls"
   ]
  },
  {
   "cell_type": "code",
   "execution_count": 40,
   "metadata": {},
   "outputs": [],
   "source": [
    "async def parse_event_id(session, url):\n",
    "    r = await session.get(url)\n",
    "    d = pq(await r.text())\n",
    "    a_doms = d('.ms-vb.itx a')\n",
    "    event_ids = []\n",
    "    for a in a_doms:\n",
    "        m = re.search(r'&ID=(\\d+)', a.attrib['href'])\n",
    "        if m:\n",
    "            event_ids.append(m.group(1))\n",
    "    return event_ids\n",
    "        \n",
    "async def retrieve_all_event_ids(event_list_urls, conn):\n",
    "    loop = asyncio.get_event_loop()\n",
    "    event_ids = []\n",
    "    async with aiohttp.ClientSession(connector=conn) as session:\n",
    "        tasks = [loop.create_task(parse_event_id(session, url)) for url in event_list_urls]\n",
    "        for f in tqdm_notebook(asyncio.as_completed(tasks), total=len(tasks)):\n",
    "            await f\n",
    "        for t in tasks:\n",
    "            event_ids.extend(t.result())\n",
    "    return event_ids"
   ]
  },
  {
   "cell_type": "code",
   "execution_count": 41,
   "metadata": {},
   "outputs": [
    {
     "data": {
      "application/vnd.jupyter.widget-view+json": {
       "model_id": "e5fd1dc636a6494990012921d7c56572",
       "version_major": 2,
       "version_minor": 0
      },
      "text/plain": [
       "HBox(children=(IntProgress(value=0, max=2), HTML(value='')))"
      ]
     },
     "metadata": {},
     "output_type": "display_data"
    },
    {
     "name": "stdout",
     "output_type": "stream",
     "text": [
      "\n"
     ]
    }
   ],
   "source": [
    "resolver = AsyncResolver(nameservers=[\"8.8.8.8\", \"8.8.4.4\"])\n",
    "conn = aiohttp.TCPConnector(limit=5, resolver=resolver)\n",
    "\n",
    "# loop = asyncio.get_event_loop()\n",
    "event_ids = await retrieve_all_event_ids(event_list_urls, conn)"
   ]
  },
  {
   "cell_type": "code",
   "execution_count": 43,
   "metadata": {},
   "outputs": [],
   "source": [
    "cst = pytz.timezone('America/Chicago')"
   ]
  },
  {
   "cell_type": "code",
   "execution_count": 46,
   "metadata": {},
   "outputs": [],
   "source": [
    "Event = namedtuple(\n",
    "    'Event', \n",
    "    'title location start end '\n",
    "    'speaker description last_modified recurrence '\n",
    "    'event_id link'\n",
    ")\n",
    "\n",
    "async def fetch_event(session, event_id):\n",
    "    r = await session.get(f'http://dbbs.wustl.edu/Lists/Events/DispForm.aspx?ID={event_id}')\n",
    "    d = pq(await r.text())\n",
    "    table_rows = OrderedDict()\n",
    "    for tr in d('.ms-formtable tr'):\n",
    "        k, v, *_ = [pq(elem).text() for elem in pq(tr)('td')]\n",
    "        table_rows[k] = v\n",
    "    title = table_rows['Title']\n",
    "    desc = table_rows['Comments'].rstrip()\n",
    "    if desc:\n",
    "        desc = html2text(desc).rstrip()\n",
    "    recurrence = table_rows['Recurrence']\n",
    "    start, end = [\n",
    "        cst.localize(parse(time_str, dayfirst=False, ignoretz=True))\n",
    "        for time_str in (table_rows['Start Time'], table_rows['End Time'])\n",
    "    ]\n",
    "    location = table_rows['Location']\n",
    "    # Speakers\n",
    "    speaker_info = []\n",
    "    for speaker_order in ['', '2nd ', '3rd ', '4th ']:\n",
    "        speaker_col = f'{speaker_order}Speaker/Honorific'\n",
    "        speaker_aff_col = f'{speaker_order}Speaker Affiliation'\n",
    "        if table_rows[speaker_col]:\n",
    "            if table_rows[speaker_aff_col]:\n",
    "                speaker_entry = f'{table_rows[speaker_col]}, {table_rows[speaker_aff_col]}'\n",
    "            else:\n",
    "                speaker_entry = table_rows[speaker_col]\n",
    "            speaker_info.append(speaker_entry)\n",
    "    speaker = '\\n'.join(speaker_info)\n",
    "    try:\n",
    "        last_modified = parse(re.match(r'^Last modified at (.*) by ', d('#onetidinfoblock2').text()).group(1))\n",
    "    except AttributeError:\n",
    "        last_modified = None\n",
    "    link = f'http://dbbs.wustl.edu/Resources/Pages/calendar_event.aspx?EvID={event_id}'\n",
    "    return Event(title, location, start, end, speaker, desc, last_modified, recurrence, event_id, link)\n",
    "        \n",
    "async def fetch_all_events(event_ids, conn):\n",
    "    loop = asyncio.get_event_loop()\n",
    "    async with aiohttp.ClientSession(connector=conn) as session:\n",
    "        tasks = [loop.create_task(fetch_event(session, event_id)) for event_id in event_ids]\n",
    "        for f in tqdm_notebook(asyncio.as_completed(tasks), total=len(tasks)):\n",
    "            await f\n",
    "        return [t.result() for t in tasks]"
   ]
  },
  {
   "cell_type": "code",
   "execution_count": 47,
   "metadata": {
    "scrolled": true
   },
   "outputs": [
    {
     "data": {
      "application/vnd.jupyter.widget-view+json": {
       "model_id": "39fc6f0ee9fb4e3c9c3747980510bdc5",
       "version_major": 2,
       "version_minor": 0
      },
      "text/plain": [
       "HBox(children=(IntProgress(value=0, max=200), HTML(value='')))"
      ]
     },
     "metadata": {},
     "output_type": "display_data"
    },
    {
     "name": "stdout",
     "output_type": "stream",
     "text": [
      "\n"
     ]
    }
   ],
   "source": [
    "resolver = AsyncResolver(nameservers=[\"8.8.8.8\", \"8.8.4.4\"])\n",
    "conn = aiohttp.TCPConnector(limit=5, resolver=resolver)\n",
    "\n",
    "event_infos = await fetch_all_events(event_ids, conn)"
   ]
  },
  {
   "cell_type": "code",
   "execution_count": 48,
   "metadata": {},
   "outputs": [],
   "source": [
    "cal = vobject.iCalendar()\n",
    "cal.add('TZID').value = 'America/Chicago'"
   ]
  },
  {
   "cell_type": "code",
   "execution_count": 54,
   "metadata": {},
   "outputs": [],
   "source": [
    "for e in event_infos:\n",
    "    event = cal.add('vevent')\n",
    "    event.add('summary').value = e.title\n",
    "    # Compose the event detail\n",
    "    event_description = []\n",
    "    if e.speaker:\n",
    "        event_description.append(f'Speakers:\\n{e.speaker}')\n",
    "    if e.description:\n",
    "        event_description.append(f'Description:\\n{e.description}')\n",
    "    event_description.append(f'Link: {e.link}')\n",
    "    event.add('description').value = '\\n\\n'.join(event_description)\n",
    "    \n",
    "    event.add('location').value = e.location\n",
    "    event.add('dtstart').value = e.start\n",
    "    if e.recurrence:\n",
    "        rre = RecurringEvent(now_date=e.start)\n",
    "        rre.parse(e.recurrence)\n",
    "        rre.until = e.end\n",
    "        event.add('rrule').value = rre.get_RFC_rrule()[len('RRULE:'):]\n",
    "        event.add('dtend').value = cst.localize(datetime.combine(e.start.date(), e.end.time()))\n",
    "    else:\n",
    "        event.add('dtend').value = e.end\n",
    "    if e.last_modified is not None:\n",
    "        event.add('dtstamp').value = e.last_modified\n",
    "    event.add('uid').value = f'{e.event_id}@events.dbbs.wustl' "
   ]
  },
  {
   "cell_type": "code",
   "execution_count": 55,
   "metadata": {},
   "outputs": [],
   "source": [
    "with open('../output/DBBS.ics', 'w') as f:\n",
    "    f.write(cal.serialize())"
   ]
  },
  {
   "cell_type": "code",
   "execution_count": null,
   "metadata": {},
   "outputs": [],
   "source": []
  }
 ],
 "metadata": {
  "kernelspec": {
   "display_name": "Python 3",
   "language": "python",
   "name": "python3"
  },
  "language_info": {
   "codemirror_mode": {
    "name": "ipython",
    "version": 3
   },
   "file_extension": ".py",
   "mimetype": "text/x-python",
   "name": "python",
   "nbconvert_exporter": "python",
   "pygments_lexer": "ipython3",
   "version": "3.7.4"
  },
  "widgets": {
   "state": {
    "2980f7fad2d14f5887eb989b8302bb03": {
     "views": [
      {
       "cell_index": 7
      }
     ]
    },
    "3eef18b0d16a4ce58525580204a5a8c9": {
     "views": [
      {
       "cell_index": 4
      }
     ]
    }
   },
   "version": "1.2.0"
  }
 },
 "nbformat": 4,
 "nbformat_minor": 2
}
