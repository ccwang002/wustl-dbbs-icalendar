{
 "cells": [
  {
   "cell_type": "code",
   "execution_count": 1,
   "metadata": {
    "collapsed": true
   },
   "outputs": [],
   "source": [
    "import re\n",
    "import feedparser\n",
    "from bs4 import BeautifulSoup"
   ]
  },
  {
   "cell_type": "code",
   "execution_count": 2,
   "metadata": {
    "collapsed": true
   },
   "outputs": [],
   "source": [
    "RSS_LINK = 'http://dbbs.wustl.edu/_layouts/feed.aspx?xsl=1&web=%2F&page=af99a055-81ee-4d9e-922b-16659022a22a&wp=0b079397-29e7-45a3-bc9a-1936ceac62e9&pageurl=%2FPages%2FRssFeed%2Easpx'"
   ]
  },
  {
   "cell_type": "code",
   "execution_count": 3,
   "metadata": {
    "collapsed": false
   },
   "outputs": [],
   "source": [
    "feed = feedparser.parse(RSS_LINK)"
   ]
  },
  {
   "cell_type": "code",
   "execution_count": 4,
   "metadata": {
    "collapsed": false
   },
   "outputs": [],
   "source": [
    "parsed_entries = []\n",
    "for entry in feed['entries']:\n",
    "    parsed_entry = {}\n",
    "    parsed_entry['link'] = entry['link']\n",
    "    parsed_entry['event_id'] = re.search(r'\\?EvID=(\\d+)', entry['link']).group(1)\n",
    "    parsed_entry['title'] = entry['title']\n",
    "    parsed_entry['published'] = entry['published']\n",
    "    \n",
    "    # parse summary\n",
    "    summary = entry['summary']\n",
    "    soup = BeautifulSoup(summary, \"lxml\")\n",
    "    parsed_summary = soup.get_text()\n",
    "    clean_summary = '\\n'.join(l.strip(' \\t').replace('\\xa0', ' ') for l in parsed_summary.splitlines())\n",
    "    parsed_entry['summary'] = clean_summary\n",
    "    \n",
    "    # extract start date and location\n",
    "    start_parser = r'Start Event:\\s*(?P<start>.*)'\n",
    "    m = re.search(start_parser, clean_summary)\n",
    "    parsed_entry['start_date'] = m.group('start') if m else entry['published']\n",
    "    \n",
    "    location_parser = r'Location:\\s*(?P<location>.*)'\n",
    "    m = re.search(location_parser, clean_summary)\n",
    "    parsed_entry['location'] = m.group('location') if m else ''\n",
    "    \n",
    "    parsed_entries.append(parsed_entry)"
   ]
  },
  {
   "cell_type": "code",
   "execution_count": 5,
   "metadata": {
    "collapsed": false
   },
   "outputs": [
    {
     "data": {
      "text/plain": [
       "[{'event_id': '5086',\n",
       "  'link': 'http://dbbs.wustl.edu/Resources/Pages/calendar_event.aspx?EvID=5086',\n",
       "  'location': 'Danforth Campus, Danforth University Center, room 300 (Liberman Graduate Center)',\n",
       "  'published': 'Mon, 09 Jan 2017 21:15:36 GMT',\n",
       "  'start_date': '2017-03-21 16:00:00',\n",
       "  'summary': 'Start Event:\\n2017-03-21 16:00:00\\nLocation:\\nDanforth Campus, Danforth University Center, room 300 (Liberman Graduate Center)\\nDescription:\\n \\nIncreasing Student Engagement Among PeersTuesday, March 21, 2017\\n4 pm, Liberman Graduate Center (Danforth Campus)This hour long seminar will feature two guests from Student Affairs.  Vice Chancellor Lori White and Associate Dean James Parker will provide insight for graduate students that are participating in group and choosing leadership rolls to enhance peer engagement and opportunity within their environment.  Please RSVP to attend this event.\\n \\nRSVP and more information: https://gradcenter.wustl.edu/programming/leadership-seminar-seriesThis event is for graduate students only.',\n",
       "  'title': 'Increasing Student Engagment Among Peers'},\n",
       " {'event_id': '5085',\n",
       "  'link': 'http://dbbs.wustl.edu/Resources/Pages/calendar_event.aspx?EvID=5085',\n",
       "  'location': 'Danforth Campus, Danforth University Center, room 300 (Liberman Graduate Center)',\n",
       "  'published': 'Mon, 09 Jan 2017 21:16:26 GMT',\n",
       "  'start_date': '2017-02-22 16:00:00',\n",
       "  'summary': 'Start Event:\\n2017-02-22 16:00:00\\nLocation:\\nDanforth Campus, Danforth University Center, room 300 (Liberman Graduate Center)\\nDescription:\\n \\nDiscover Your Strengths\\nWednesday, February 22, 2017\\n4 pm, Liberman Graduate Center (Danforth Campus)\\n \\nEach of us is aware that we have strengths, but we are not always sure how to articulate what they are and how they contribute to our success. Join us for a workshop on finding your individual strengths and how they relate to student leadership!Participants will be given access to take the StrengthsQuest™ inventory prior to the workshop, which will illuminate how talents you may or may not know you have operate as personal strengths helping you to develop academically, professionally, and personally.During the workshop, we will discuss how your strengths contribute to your own leadership style, how to employ your strengths in your role as a leader of a graduate student organization, and how the individual strengths of each member of your group’s executive board can make you an effective team. For example, how should your group delegate tasks, coordinate event planning, recruit new members, market activities, and stay organized based on the different strengths represented among members of the executive board?Space is limited.  Sign up today and learn how your talents can help you grow as a student leader!\\n \\nRSVP and more information: https://gradcenter.wustl.edu/programming/leadership-seminar-series \\n \\nThis workshop is for graduate students only.',\n",
       "  'title': 'Discovering Your Strengths'},\n",
       " {'event_id': '5084',\n",
       "  'link': 'http://dbbs.wustl.edu/Resources/Pages/calendar_event.aspx?EvID=5084',\n",
       "  'location': '901 CSRB North Tower Addition',\n",
       "  'published': 'Mon, 09 Jan 2017 15:20:42 GMT',\n",
       "  'start_date': '2017-01-20 12:00:00',\n",
       "  'summary': 'Start Event:\\n2017-01-20 12:00:00\\nLocation:\\n901 CSRB North Tower Addition',\n",
       "  'title': 'An Endothelial Perspective on Gut Inflammation'}]"
      ]
     },
     "execution_count": 5,
     "metadata": {},
     "output_type": "execute_result"
    }
   ],
   "source": [
    "parsed_entries[:3]"
   ]
  },
  {
   "cell_type": "code",
   "execution_count": 6,
   "metadata": {
    "collapsed": false
   },
   "outputs": [],
   "source": [
    "from datetime import datetime, timedelta\n",
    "from dateutil.parser import parse\n",
    "import pytz\n",
    "import vobject"
   ]
  },
  {
   "cell_type": "code",
   "execution_count": 7,
   "metadata": {
    "collapsed": true
   },
   "outputs": [],
   "source": [
    "e = parsed_entries[0]"
   ]
  },
  {
   "cell_type": "code",
   "execution_count": 8,
   "metadata": {
    "collapsed": false
   },
   "outputs": [],
   "source": [
    "# cst = pendulum.timezone('US/Central')\n",
    "# utc = pendulum.timezone('UTC')\n",
    "cst = pytz.timezone('America/Chicago')  # ('US/Central')\n",
    "utc = pytz.utc"
   ]
  },
  {
   "cell_type": "markdown",
   "metadata": {
    "collapsed": true
   },
   "source": [
    "### Playing with pendulum\n",
    "\n",
    "https://pendulum.eustace.io/"
   ]
  },
  {
   "cell_type": "code",
   "execution_count": 9,
   "metadata": {
    "collapsed": false
   },
   "outputs": [],
   "source": [
    "import pendulum"
   ]
  },
  {
   "cell_type": "code",
   "execution_count": 10,
   "metadata": {
    "collapsed": true
   },
   "outputs": [],
   "source": [
    "now = pendulum.now('US/Central')"
   ]
  },
  {
   "cell_type": "code",
   "execution_count": 11,
   "metadata": {
    "collapsed": false
   },
   "outputs": [
    {
     "data": {
      "text/plain": [
       "'2017-01-09T18:46:24-06:00'"
      ]
     },
     "execution_count": 11,
     "metadata": {},
     "output_type": "execute_result"
    }
   ],
   "source": [
    "now.to_iso8601_string()"
   ]
  },
  {
   "cell_type": "code",
   "execution_count": 12,
   "metadata": {
    "collapsed": true
   },
   "outputs": [],
   "source": [
    "import asyncio"
   ]
  },
  {
   "cell_type": "code",
   "execution_count": 13,
   "metadata": {
    "collapsed": false
   },
   "outputs": [],
   "source": [
    "import aiohttp\n",
    "from aiohttp.resolver import AsyncResolver\n",
    "\n",
    "from html2text import html2text\n",
    "from datetime import datetime\n",
    "from recurrent import RecurringEvent"
   ]
  },
  {
   "cell_type": "code",
   "execution_count": 14,
   "metadata": {
    "collapsed": false
   },
   "outputs": [],
   "source": [
    "from pyquery import PyQuery as pq\n",
    "from tqdm import tqdm_notebook"
   ]
  },
  {
   "cell_type": "code",
   "execution_count": 20,
   "metadata": {
    "collapsed": false
   },
   "outputs": [],
   "source": [
    "async def fetch_event(session, event_id):\n",
    "    r = await session.get(f'http://dbbs.wustl.edu/Lists/Events/DispForm.aspx?ID={event_id}')\n",
    "    d = pq(await r.text())\n",
    "    desc = d('.ms-rtestate-field > div').html() or ''\n",
    "    if desc:\n",
    "        desc = html2text(desc)\n",
    "    recurrence = d('#SPFieldRecurrence').text()\n",
    "    start, end = [elem.text_content().strip() for elem in d('#SPFieldDateTime')]\n",
    "    end = cst.localize(parse(end, dayfirst=False, ignoretz=True))\n",
    "    return (desc, end, recurrence, d)\n",
    "        \n",
    "async def fetch_all_events(event_ids, conn):\n",
    "    loop = asyncio.get_event_loop()\n",
    "    async with aiohttp.ClientSession(connector=conn) as session:\n",
    "        tasks = [loop.create_task(fetch_event(session, event_id)) for event_id in event_ids]\n",
    "        for f in tqdm_notebook(asyncio.as_completed(tasks), total=len(tasks)):\n",
    "            await f\n",
    "        return [t.result() for t in tasks]"
   ]
  },
  {
   "cell_type": "code",
   "execution_count": 21,
   "metadata": {
    "collapsed": false
   },
   "outputs": [
    {
     "name": "stdout",
     "output_type": "stream",
     "text": [
      "\n",
      "CPU times: user 316 ms, sys: 20.8 ms, total: 337 ms\n",
      "Wall time: 5.64 s\n"
     ]
    }
   ],
   "source": [
    "%%time\n",
    "resolver = AsyncResolver(nameservers=[\"8.8.8.8\", \"8.8.4.4\"])\n",
    "conn = aiohttp.TCPConnector(limit=5, resolver=resolver)\n",
    "\n",
    "loop = asyncio.get_event_loop()\n",
    "results = loop.run_until_complete(fetch_all_events([e['event_id'] for e in parsed_entries[:10]], conn))"
   ]
  },
  {
   "cell_type": "code",
   "execution_count": 38,
   "metadata": {
    "collapsed": false
   },
   "outputs": [],
   "source": [
    "d = results[0][-1]"
   ]
  },
  {
   "cell_type": "code",
   "execution_count": 56,
   "metadata": {
    "collapsed": false
   },
   "outputs": [
    {
     "data": {
      "text/plain": [
       "'Danforth Campus, Danforth University Center, room 300 (Liberman Graduate Center)'"
      ]
     },
     "execution_count": 56,
     "metadata": {},
     "output_type": "execute_result"
    }
   ],
   "source": [
    "d('a[name=\"SPBookmark_Location0\"]').closest('td').nextAll('td').text()"
   ]
  },
  {
   "cell_type": "code",
   "execution_count": 80,
   "metadata": {
    "collapsed": true
   },
   "outputs": [],
   "source": [
    "from collections import OrderedDict"
   ]
  },
  {
   "cell_type": "code",
   "execution_count": 81,
   "metadata": {
    "collapsed": false
   },
   "outputs": [],
   "source": [
    "table_rows = OrderedDict()\n",
    "for tr in d('.ms-formtable tr'):\n",
    "    k, v, *_ = [pq(elem).text() for elem in pq(tr)('td')]\n",
    "    table_rows[k] = v"
   ]
  },
  {
   "cell_type": "code",
   "execution_count": 82,
   "metadata": {
    "collapsed": false
   },
   "outputs": [
    {
     "data": {
      "text/plain": [
       "OrderedDict([('Requestor', 'Jessica Hutchins'),\n",
       "             ('Requestor Department', 'DBBS'),\n",
       "             ('Requestor Phone', '314-747-0876'),\n",
       "             ('Requestor Email', 'jhutchins@wustl.edu'),\n",
       "             ('Type of Event', 'Non-Scientific Seminar'),\n",
       "             ('Type of Lecture', 'Named Lecture'),\n",
       "             ('Start Time', '3/21/2017 4:00 PM'),\n",
       "             ('End Time', '3/21/2017 5:00 PM'),\n",
       "             ('Recurrence', ''),\n",
       "             ('All Day Event', ''),\n",
       "             ('Show RSVP', 'No'),\n",
       "             ('Sponsoring Department/Group', 'Liberman Graduate Center'),\n",
       "             ('Speaker/Honorific', 'Lori White'),\n",
       "             ('Speaker Affiliation', 'Vice Chancellor for Student Affairs'),\n",
       "             ('Title', 'Increasing Student Engagment Among Peers'),\n",
       "             ('Add More Speakers (Optional)', 'No'),\n",
       "             ('2nd Speaker/Honorific', ''),\n",
       "             ('2nd Speaker Affiliation', ''),\n",
       "             ('2nd Title', ''),\n",
       "             ('3rd Speaker/Honorific', ''),\n",
       "             ('3rd Speaker Affiliation', ''),\n",
       "             ('3rd Title', ''),\n",
       "             ('4th Speaker/Honorific', ''),\n",
       "             ('4th Speaker Affiliation', ''),\n",
       "             ('4th Title', ''),\n",
       "             ('Location',\n",
       "              'Danforth Campus, Danforth University Center, room 300 (Liberman Graduate Center)'),\n",
       "             ('Comments',\n",
       "              'Increasing Student Engagement Among Peers Tuesday, March 21, 2017 4 pm, Liberman Graduate Center (Danforth Campus) This hour long seminar will feature two guests from Student Affairs. Vice Chancellor Lori White and Associate Dean James Parker will provide insight for graduate students that are participating in group and choosing leadership rolls to enhance peer engagement and opportunity within their environment.\\xa0 Please RSVP to attend this event. RSVP and more information: https://gradcenter.wustl.edu/programming/leadership-seminar-series This event is for graduate students only.'),\n",
       "             ('Submit Another Request', 'No'),\n",
       "             ('Cancel Event', 'No'),\n",
       "             ('Career/Professional Development', 'Yes'),\n",
       "             ('PostdocEvent', 'No'),\n",
       "             ('Sponsor/Location',\n",
       "              'Liberman Graduate Center - Location:\\xa0 Danforth Campus, Danforth University Center, room 300 (Liberman Graduate Center)'),\n",
       "             ('Speaker/Title',\n",
       "              'Lori White - Increasing Student Engagment Among Peers'),\n",
       "             ('Sponsor/Speaker/Title/Location',\n",
       "              'Liberman Graduate Center - Location:\\xa0 Danforth Campus, Danforth University Center, room 300 (Liberman Graduate Center) - Lori White - Increasing Student Engagment Among Peers'),\n",
       "             ('start', '3/21/2017'),\n",
       "             ('ShowOnHomePage', 'Yes'),\n",
       "             ('Approved Event', 'Yes'),\n",
       "             ('iCal',\n",
       "              'http://dbbs.wustl.edu/_vti_bin/owssvr.dll?CS=109&Cmd=Display&List= {3C2772E8-70D9-4EF9-BB74-B38E64DFF302}&CacheControl=1&ID=&Using=event.ics'),\n",
       "             ('Attachments',\n",
       "              '// <![CDATA[\\r\\n\\t        var elm = document.getElementById(\"idAttachmentsTable\");\\r\\n\\t        var elmAttachmentRow =  document.getElementById(\"idAttachmentsRow\")\\r\\n\\t        if ((elm == null || elm.rows.length == 0) && (elmAttachmentRow!=null))\\r\\n\\t            elmAttachmentRow.style.display=\\'none\\';\\r\\n\\t\\t  // ]]>')])"
      ]
     },
     "execution_count": 82,
     "metadata": {},
     "output_type": "execute_result"
    }
   ],
   "source": [
    "table_rows"
   ]
  },
  {
   "cell_type": "code",
   "execution_count": 17,
   "metadata": {
    "collapsed": true
   },
   "outputs": [],
   "source": [
    "cal = vobject.iCalendar()\n",
    "\n",
    "cal.add('X-WR-CALNAME').value = 'DBBS'\n",
    "cal.add('TZID').value = 'America/Chicago'"
   ]
  },
  {
   "cell_type": "code",
   "execution_count": 18,
   "metadata": {
    "collapsed": false
   },
   "outputs": [],
   "source": [
    "for e, (desc, dt_end, recurrence, *_) in zip(parsed_entries, results):\n",
    "    dt_start = cst.localize(parse(e['start_date']))\n",
    "    # dt_start = pendulum.from_format(e['start_date'], '%Y-%m-%d %H:%M:%S', cst)\n",
    "    event = cal.add('vevent')\n",
    "    event.add('summary').value = e['title']\n",
    "    event.add('description').value = f'''\\\n",
    "{desc}\n",
    "\n",
    "Link: {e['link']}\n",
    "    '''\n",
    "    event.add('location').value = e['location']\n",
    "    event.add('dtstart').value = dt_start\n",
    "    if recurrence:\n",
    "        rre = RecurringEvent(now_date=dt_start)\n",
    "        rre.parse(recurrence)\n",
    "        rre.until = dt_end\n",
    "        event.add('rrule').value = rre.get_RFC_rrule()[len('RRULE:'):]\n",
    "        event.add('dtend').value = cst.localize(datetime.combine(dt_start.date(), dt_end.time()))\n",
    "    else:\n",
    "        event.add('dtend').value = dt_end\n",
    "    event.add('dtstamp').value = parse(e['published'])\n",
    "    event.add('uid').value = f'WUSTL DBBS Event Calendar - Event ID {e[\"event_id\"]}' "
   ]
  },
  {
   "cell_type": "code",
   "execution_count": 19,
   "metadata": {
    "collapsed": false
   },
   "outputs": [],
   "source": [
    "with open('out.ics', 'w') as f:\n",
    "    f.write(cal.serialize())"
   ]
  },
  {
   "cell_type": "code",
   "execution_count": null,
   "metadata": {
    "collapsed": true
   },
   "outputs": [],
   "source": []
  }
 ],
 "metadata": {
  "kernelspec": {
   "display_name": "Python 3",
   "language": "python",
   "name": "python3"
  },
  "language_info": {
   "codemirror_mode": {
    "name": "ipython",
    "version": 3
   },
   "file_extension": ".py",
   "mimetype": "text/x-python",
   "name": "python",
   "nbconvert_exporter": "python",
   "pygments_lexer": "ipython3",
   "version": "3.6.0"
  },
  "widgets": {
   "state": {
    "b388ec24913045dea2a4fdb6393b6df5": {
     "views": [
      {
       "cell_index": 16
      }
     ]
    }
   },
   "version": "1.2.0"
  }
 },
 "nbformat": 4,
 "nbformat_minor": 0
}
